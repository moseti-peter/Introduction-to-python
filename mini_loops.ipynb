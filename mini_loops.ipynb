{
  "nbformat": 4,
  "nbformat_minor": 0,
  "metadata": {
    "colab": {
      "provenance": [],
      "authorship_tag": "ABX9TyPjCJNu/c1p9ejeRC5Ajb5y",
      "include_colab_link": true
    },
    "kernelspec": {
      "name": "python3",
      "display_name": "Python 3"
    },
    "language_info": {
      "name": "python"
    }
  },
  "cells": [
    {
      "cell_type": "markdown",
      "metadata": {
        "id": "view-in-github",
        "colab_type": "text"
      },
      "source": [
        "<a href=\"https://colab.research.google.com/github/moseti-peter/Introduction-to-python/blob/main/mini_loops.ipynb\" target=\"_parent\"><img src=\"https://colab.research.google.com/assets/colab-badge.svg\" alt=\"Open In Colab\"/></a>"
      ]
    },
    {
      "cell_type": "code",
      "source": [
        "correct_value = \"Hello\"\n",
        "while True:\n",
        "  greeting = input(\"Guess the greeting\")\n",
        "  if greeting == correct_value:\n",
        "    print(\"You got it right\")\n",
        "    break\n",
        "  else:\n",
        "    print(\"Incorrect\")"
      ],
      "metadata": {
        "colab": {
          "base_uri": "https://localhost:8080/"
        },
        "id": "LToXdAwBnbPQ",
        "outputId": "ac97c29b-8592-4f43-a7f3-6a4493806a4b"
      },
      "execution_count": 1,
      "outputs": [
        {
          "output_type": "stream",
          "name": "stdout",
          "text": [
            "Guess the greetinghawau\n",
            "Incorrect\n",
            "Guess the greetingHello\n",
            "You got it right\n"
          ]
        }
      ]
    },
    {
      "cell_type": "code",
      "execution_count": 2,
      "metadata": {
        "colab": {
          "base_uri": "https://localhost:8080/"
        },
        "id": "ezDDupRNmvYy",
        "outputId": "1321d71e-1340-4fd6-9167-aa593135af23"
      },
      "outputs": [
        {
          "output_type": "stream",
          "name": "stdout",
          "text": [
            "1\n",
            "2\n",
            "3\n",
            "4\n",
            "5\n",
            "6\n",
            "7\n",
            "8\n",
            "9\n",
            "10\n"
          ]
        }
      ],
      "source": [
        "# 1. Print numbers from 1 to 10\\n\",\n",
        "# Output:\\n\",\n",
        "# 1\\n\",\n",
        "# 2\\n\",\n",
        "# ...\\n\",\n",
        "# 10\n",
        "for num in range(1, 11):\n",
        "  print(num)\n",
        ""
      ]
    },
    {
      "cell_type": "code",
      "source": [
        "# 2. Print even numbers between 1 and 20\\n\",\n",
        "# Output:\\n\",\n",
        "# 2, 4, 6, ..., 20\\n\",\n",
        "# 3. Print the square of numbers from 1 to 5\\n\",\n",
        "# Output:\\n\",\n",
        "# 1 4 9 16 25\"\n",
        "for num in range(1, 21):\n",
        "  if num % 2 == 0:\n",
        "    print(num)\n"
      ],
      "metadata": {
        "colab": {
          "base_uri": "https://localhost:8080/"
        },
        "id": "NkuxkzoVoxAm",
        "outputId": "9921c556-114f-43cb-bd39-899c3e3e962d"
      },
      "execution_count": 3,
      "outputs": [
        {
          "output_type": "stream",
          "name": "stdout",
          "text": [
            "2\n",
            "4\n",
            "6\n",
            "8\n",
            "10\n",
            "12\n",
            "14\n",
            "16\n",
            "18\n",
            "20\n"
          ]
        }
      ]
    },
    {
      "cell_type": "code",
      "source": [
        "# 3. Print the square of numbers from 1 to 5\\n\",\n",
        "# Output:\\n\",\n",
        "# 1 4 9 16 25\"\n",
        "for num in range(1, 6):\n",
        "  print(num ** 2)"
      ],
      "metadata": {
        "colab": {
          "base_uri": "https://localhost:8080/"
        },
        "id": "dNvs4e0ipup0",
        "outputId": "82ad680d-75ca-4e46-8766-3708ef6b7dbc"
      },
      "execution_count": 4,
      "outputs": [
        {
          "output_type": "stream",
          "name": "stdout",
          "text": [
            "1\n",
            "4\n",
            "9\n",
            "16\n",
            "25\n"
          ]
        }
      ]
    },
    {
      "cell_type": "code",
      "source": [
        "# 4. Print each character in the word \\\"Python\\\"\\n\",\n",
        "# Output:\\n\",\n",
        "# P\\n\",\n",
        "# y\\n\",\n",
        "# t\\n\",\n",
        "# h\\n\",\n",
        "# o\\n\",\n",
        "# n\"\n",
        "word = \"Python\"\n",
        "for char in word:\n",
        "  print(char)"
      ],
      "metadata": {
        "colab": {
          "base_uri": "https://localhost:8080/"
        },
        "id": "Si4-4NhltJGJ",
        "outputId": "e7e831d7-4f9d-447b-e9e7-a21718d8865a"
      },
      "execution_count": 11,
      "outputs": [
        {
          "output_type": "stream",
          "name": "stdout",
          "text": [
            "P\n",
            "y\n",
            "t\n",
            "h\n",
            "o\n",
            "n\n"
          ]
        }
      ]
    },
    {
      "cell_type": "code",
      "source": [
        "# 5. Loop through this list and print names:\\n\",\n",
        "#names = [\\\"Alice\\\", \\\"Bob\\\", \\\"Charlie\\\"]\n",
        "names = [\"Alice\", \"Bob\", \"Charlie\"]\n",
        "for name in names:\n",
        "  print(name)"
      ],
      "metadata": {
        "colab": {
          "base_uri": "https://localhost:8080/"
        },
        "id": "b5TCdS0lt30d",
        "outputId": "cc825481-3153-4dfb-f7e1-55fd7a775acf"
      },
      "execution_count": 12,
      "outputs": [
        {
          "output_type": "stream",
          "name": "stdout",
          "text": [
            "Alice\n",
            "Bob\n",
            "Charlie\n"
          ]
        }
      ]
    },
    {
      "cell_type": "code",
      "source": [
        "#6. Print numbers from 5 to 1\\n\",\n",
        "# Output:\\n\",\n",
        "# 5\\n\",\n",
        "# 4\\n\",\n",
        "# 3\\n\",\n",
        "# 2\\n\",\n",
        "# 1\"\n",
        "for num in range(5, 0, -1):\n",
        "  print(num)\n"
      ],
      "metadata": {
        "colab": {
          "base_uri": "https://localhost:8080/"
        },
        "id": "Gn6sqDTvt3iV",
        "outputId": "b1751860-33b5-4141-cbe6-8ffe76793fe9"
      },
      "execution_count": 13,
      "outputs": [
        {
          "output_type": "stream",
          "name": "stdout",
          "text": [
            "5\n",
            "4\n",
            "3\n",
            "2\n",
            "1\n"
          ]
        }
      ]
    },
    {
      "cell_type": "code",
      "source": [
        " #7. Keep asking the user to enter a password until they type \\\"secret\\\"\\n\",\n",
        "# Output:\\n\",\n",
        "# Try again... until correct\"\n",
        "while True:\n",
        "  password = input(\"Enter password\")\n",
        "  if password == \"secret\":\n",
        "    print(\"Correct\")\n",
        "    break\n",
        "  else:\n",
        "    print(\"Try again\")"
      ],
      "metadata": {
        "colab": {
          "base_uri": "https://localhost:8080/"
        },
        "id": "QRBMqOYVt3Ql",
        "outputId": "c4c34a0a-2725-4a5c-9483-a2fea2b34d31"
      },
      "execution_count": 14,
      "outputs": [
        {
          "output_type": "stream",
          "name": "stdout",
          "text": [
            "Enter passwordtgsdtf\n",
            "Try again\n",
            "Enter passworddgsv\n",
            "Try again\n",
            "Enter passwordsecret\n",
            "Correct\n"
          ]
        }
      ]
    },
    {
      "cell_type": "code",
      "source": [
        "# 8. Ask the user to enter numbers until they enter 0. Then print the sum.\\n\",\n",
        "# Input:\\n\",\n",
        "# 5\\n\",\n",
        "# 3\\n\",\n",
        "# 0\\n\",\n",
        "# Output:\\n\",\n",
        "# Total: 8\"\n",
        "total = 0\n",
        "while True:\n",
        "  num = int(input(\"Enter a number\"))\n",
        "  if num == 0:\n",
        "    break\n",
        "  total += num\n",
        "print(total)\n"
      ],
      "metadata": {
        "colab": {
          "base_uri": "https://localhost:8080/"
        },
        "id": "fPAOPKyVp_-b",
        "outputId": "d5247b32-5b0a-449e-9d41-7c4a734ef28d"
      },
      "execution_count": 8,
      "outputs": [
        {
          "output_type": "stream",
          "name": "stdout",
          "text": [
            "Enter a number1\n",
            "Enter a number3\n",
            "Enter a number4\n",
            "Enter a number5\n",
            "Enter a number4\n",
            "Enter a number5\n",
            "Enter a number4\n",
            "Enter a number5\n",
            "Enter a number4\n",
            "Enter a number0\n",
            "35\n"
          ]
        }
      ]
    },
    {
      "cell_type": "code",
      "source": [
        "# 9. Print all numbers from 1 to 20 that are divisible by 3\\n\",\n",
        "# Output:\\n\",\n",
        "# 3 6 9 12 15 18\"\n",
        "for num in range(1, 21):\n",
        "  if num % 3 == 0:\n",
        "    print(num)"
      ],
      "metadata": {
        "colab": {
          "base_uri": "https://localhost:8080/"
        },
        "id": "_I9M3X44v5-C",
        "outputId": "711f320b-47d5-4963-c16d-74edd59183cb"
      },
      "execution_count": 15,
      "outputs": [
        {
          "output_type": "stream",
          "name": "stdout",
          "text": [
            "3\n",
            "6\n",
            "9\n",
            "12\n",
            "15\n",
            "18\n"
          ]
        }
      ]
    },
    {
      "cell_type": "code",
      "source": [
        "# 10. From this list, print only the odd numbers:\\n\", \"numbers = [4, 7, 10, 13, 16, 19]\"\n",
        "numbers = [4, 7, 10, 13, 16, 19]\n",
        "for num in numbers:\n",
        "  if num % 2 != 0:\n",
        "    print(num)"
      ],
      "metadata": {
        "colab": {
          "base_uri": "https://localhost:8080/"
        },
        "id": "6j9P0BRmv5Jn",
        "outputId": "c759957d-e359-4cf6-e643-a1d923c26404"
      },
      "execution_count": 19,
      "outputs": [
        {
          "output_type": "stream",
          "name": "stdout",
          "text": [
            "7\n",
            "13\n",
            "19\n"
          ]
        }
      ]
    },
    {
      "cell_type": "code",
      "source": [
        "# 11. Count how many times \\\"apple\\\" appears in the list:\\n\", \"fruits = [\\\"apple\\\", \\\"banana\\\", \\\"apple\\\", \\\"cherry\\\", \\\"apple\\\"]\"\n",
        "fruits = [\"apple\", \"banana\", \"apple\", \"cherry\", \"apple\"]\n",
        "count = 0\n",
        "for fruit in fruits:\n",
        "  if fruit == \"apple\":\n",
        "    count += 1\n",
        "print(count)"
      ],
      "metadata": {
        "colab": {
          "base_uri": "https://localhost:8080/"
        },
        "id": "swemEaFfv4pz",
        "outputId": "ebb8b39a-98d1-412e-b5f0-2bb30a698c0d"
      },
      "execution_count": 20,
      "outputs": [
        {
          "output_type": "stream",
          "name": "stdout",
          "text": [
            "3\n"
          ]
        }
      ]
    },
    {
      "cell_type": "code",
      "source": [
        "# 12. Use a loop to reverse a string:\\n\",\n",
        "# Input:\\n\",\n",
        "# \\\"hello\\\"\\n\",\n",
        "# Output:\\n\",\n",
        "# \\\"olleh\\\"\n",
        "text = \"hello\"\n",
        "counter = len(text) - 1\n",
        "reversed_text = \"\"\n",
        "while counter >= 0:\n",
        "  reversed_text += text[counter]\n",
        "  counter -= 1\n",
        "print(reversed_text)"
      ],
      "metadata": {
        "colab": {
          "base_uri": "https://localhost:8080/"
        },
        "id": "dX6EZXbxq8gN",
        "outputId": "81b8178f-ce9f-4938-de0b-1043965a25d3"
      },
      "execution_count": 9,
      "outputs": [
        {
          "output_type": "stream",
          "name": "stdout",
          "text": [
            "olleh\n"
          ]
        }
      ]
    },
    {
      "cell_type": "code",
      "source": [
        "# 13. Print a simple triangle of stars:\\n\",\n",
        "# Output:\\n\",\n",
        "# *\\n\",\n",
        "# **\\n\",\n",
        "# ***\\n\",\n",
        "# ****\\n\",\n",
        "# *****\"\n",
        "for num in range(1, 6):\n",
        "  print(\"*\" * num)"
      ],
      "metadata": {
        "colab": {
          "base_uri": "https://localhost:8080/"
        },
        "id": "JyuR7vQg1fPU",
        "outputId": "feedb665-a52b-47a5-9c61-253c79b5eb26"
      },
      "execution_count": 21,
      "outputs": [
        {
          "output_type": "stream",
          "name": "stdout",
          "text": [
            "*\n",
            "**\n",
            "***\n",
            "****\n",
            "*****\n"
          ]
        }
      ]
    },
    {
      "cell_type": "code",
      "source": [
        "# 14. Use a loop to calculate the factorial of a number:\\n\",\n",
        "# Input:\\n\",\n",
        "# 5\\n\",\n",
        "# Output:\\n\",\n",
        "# 120\"\n",
        "num = int(input(\"Enter a number\"))\n",
        "factorial = 1\n",
        "for i in range(1, num + 1):\n",
        "  factorial *= i\n",
        "print(factorial)"
      ],
      "metadata": {
        "colab": {
          "base_uri": "https://localhost:8080/"
        },
        "id": "NTFh4PMw1e9U",
        "outputId": "f213f421-1886-4afe-ffcc-f93872f31baa"
      },
      "execution_count": 25,
      "outputs": [
        {
          "output_type": "stream",
          "name": "stdout",
          "text": [
            "Enter a number4\n",
            "24\n"
          ]
        }
      ]
    },
    {
      "cell_type": "code",
      "source": [
        "# 15. Loop from 1 to 100 and:\\n\",\n",
        "# Print \\\"Hit\\\" if divisible by 3\\n\",\n",
        "# Print \\\"Miss\\\" if divisible by 5\\n\",\n",
        "# Print \\\"Jackpot\\\" if divisible by both\"\n",
        "for num in range(1, 101):\n",
        "  if num % 3 == 0 and num % 5 == 0:\n",
        "    print(\"Jackpot\")\n",
        "    continue\n",
        "  if num % 3 == 0:\n",
        "    print(\"Hit\")\n",
        "    continue\n",
        "  if num % 5 == 0:\n",
        "    print(\"Miss\")\n",
        "    continue\n",
        "  print(num)"
      ],
      "metadata": {
        "colab": {
          "base_uri": "https://localhost:8080/"
        },
        "id": "DR-1Yyrm1eHq",
        "outputId": "531682c0-de51-4bfc-fe3e-04b4a6992bcd"
      },
      "execution_count": 26,
      "outputs": [
        {
          "output_type": "stream",
          "name": "stdout",
          "text": [
            "1\n",
            "2\n",
            "Hit\n",
            "4\n",
            "Miss\n",
            "Hit\n",
            "7\n",
            "8\n",
            "Hit\n",
            "Miss\n",
            "11\n",
            "Hit\n",
            "13\n",
            "14\n",
            "Jackpot\n",
            "16\n",
            "17\n",
            "Hit\n",
            "19\n",
            "Miss\n",
            "Hit\n",
            "22\n",
            "23\n",
            "Hit\n",
            "Miss\n",
            "26\n",
            "Hit\n",
            "28\n",
            "29\n",
            "Jackpot\n",
            "31\n",
            "32\n",
            "Hit\n",
            "34\n",
            "Miss\n",
            "Hit\n",
            "37\n",
            "38\n",
            "Hit\n",
            "Miss\n",
            "41\n",
            "Hit\n",
            "43\n",
            "44\n",
            "Jackpot\n",
            "46\n",
            "47\n",
            "Hit\n",
            "49\n",
            "Miss\n",
            "Hit\n",
            "52\n",
            "53\n",
            "Hit\n",
            "Miss\n",
            "56\n",
            "Hit\n",
            "58\n",
            "59\n",
            "Jackpot\n",
            "61\n",
            "62\n",
            "Hit\n",
            "64\n",
            "Miss\n",
            "Hit\n",
            "67\n",
            "68\n",
            "Hit\n",
            "Miss\n",
            "71\n",
            "Hit\n",
            "73\n",
            "74\n",
            "Jackpot\n",
            "76\n",
            "77\n",
            "Hit\n",
            "79\n",
            "Miss\n",
            "Hit\n",
            "82\n",
            "83\n",
            "Hit\n",
            "Miss\n",
            "86\n",
            "Hit\n",
            "88\n",
            "89\n",
            "Jackpot\n",
            "91\n",
            "92\n",
            "Hit\n",
            "94\n",
            "Miss\n",
            "Hit\n",
            "97\n",
            "98\n",
            "Hit\n",
            "Miss\n"
          ]
        }
      ]
    },
    {
      "cell_type": "code",
      "source": [
        "# 16. Ask the user how many students are in a class. Then loop to enter each student’s name and save them to a list. Finally, print the list of students.\"\n",
        "no_of_student = int(input(\"how many students are in class\"))\n",
        "students = []\n",
        "while no_of_student > 0:\n",
        "  name = input(\"Enter student name\")\n",
        "  students.append(name)\n",
        "  no_of_student -= 1\n",
        "print(students)"
      ],
      "metadata": {
        "colab": {
          "base_uri": "https://localhost:8080/"
        },
        "id": "Q8bC-LIzr3-w",
        "outputId": "1de28ace-7ae9-4a55-e88e-540c7da0356c"
      },
      "execution_count": 10,
      "outputs": [
        {
          "output_type": "stream",
          "name": "stdout",
          "text": [
            "how many students are in class3\n",
            "Enter student namePeter\n",
            "Enter student nameJane\n",
            "Enter student nameJoy\n",
            "['Peter', 'Jane', 'Joy']\n"
          ]
        }
      ]
    },
    {
      "cell_type": "code",
      "source": [],
      "metadata": {
        "id": "61-R2L2etA69"
      },
      "execution_count": null,
      "outputs": []
    }
  ]
}