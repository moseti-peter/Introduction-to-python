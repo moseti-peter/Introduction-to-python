{
  "nbformat": 4,
  "nbformat_minor": 0,
  "metadata": {
    "colab": {
      "provenance": [],
      "authorship_tag": "ABX9TyM6pUMlPZgNOtWZ3u+j0fD9",
      "include_colab_link": true
    },
    "kernelspec": {
      "name": "python3",
      "display_name": "Python 3"
    },
    "language_info": {
      "name": "python"
    }
  },
  "cells": [
    {
      "cell_type": "markdown",
      "metadata": {
        "id": "view-in-github",
        "colab_type": "text"
      },
      "source": [
        "<a href=\"https://colab.research.google.com/github/moseti-peter/Introduction-to-python/blob/main/mini_dict.ipynb\" target=\"_parent\"><img src=\"https://colab.research.google.com/assets/colab-badge.svg\" alt=\"Open In Colab\"/></a>"
      ]
    },
    {
      "cell_type": "code",
      "execution_count": 1,
      "metadata": {
        "colab": {
          "base_uri": "https://localhost:8080/"
        },
        "id": "1Pj1Hl-SQ03_",
        "outputId": "16e783ac-0fba-46fe-e851-039a315ea3af"
      },
      "outputs": [
        {
          "output_type": "stream",
          "name": "stdout",
          "text": [
            "Alice\n",
            "dict_keys(['name', 'age', 'grade', 'school'])\n",
            "dict_values(['Alice', 14, 'A', 'Greenwood High'])\n",
            "{'name': 'Alice', 'grade': 'A', 'school': 'Greenwood High'}\n",
            "\n",
            "\n",
            "('name', 'Alice')\n",
            "('grade', 'A')\n",
            "('school', 'Greenwood High')\n",
            "\n",
            "\n",
            "name\n",
            "grade\n",
            "school\n",
            "\n",
            "\n",
            "Alice\n",
            "A\n",
            "Greenwood High\n",
            "\n",
            "\n",
            "Not provided\n",
            "\n",
            "\n",
            "False\n",
            "\n",
            "\n",
            "{'name': 'Alice', 'grade': 'A', 'school': 'Greenwood High', 'city': 'Mombasa', 'email': 'bob@example.com'}\n"
          ]
        }
      ],
      "source": [
        "# 1. Create a dictionary called student with:\\n\n",
        "# Keys: \\\"name\\\", \\\"age\\\", \\\"grade\\\"\\n\n",
        "# Values: \\\"Alice\\\", 14, \\\"B\\\"\"\n",
        "options = [\"name\", \"age\", \"grade\"]\n",
        "student_data= {\"name\": \"Alice\", \"age\": 14, \"grade\": \"B\"}\n",
        "# 1.1. Access and print the student's name from the dictionary.\n",
        "print(student_data[\"name\"])\n",
        "# 1.2. Update the student's grade to \\\"A\\\".\n",
        "student_data[\"grade\"] = \"A\"\n",
        "# 1.3. Add a new key called \\\"school\\\" with the value \\\"Greenwood High\\\".\n",
        "student_data[\"school\"] = \"Greenwood High\"\n",
        "# 1.4. Print all the keys and values in the student dictionary.\n",
        "print(student_data.keys())\n",
        "print(student_data.values())\n",
        "#1.4. Delete the \\\"age\\\" key from the dictionary.\n",
        "del student_data[\"age\"]\n",
        "print(student_data)\n",
        "# 2. Loop through the following dictionary and print each key and value:\n",
        "#student_data = { \"name\": \"Alice\",\"age\": 14, \"grade\": \"B\",\"school\": \"Greenwood High\"}\n",
        "print(\"\\n\")\n",
        "for student in student_data.items():\n",
        "    print(student)\n",
        " # 2.1. Loop through and print only the keys from the dictionary above.\n",
        "print(\"\\n\")\n",
        "for student in student_data.keys():\n",
        "    print(student)\n",
        "# 2.2. Loop through and print only the values from the dictionary above.\n",
        "print(\"\\n\")\n",
        "for student in student_data.values():\n",
        "    print(student)\n",
        "# 2.3. Use .get() to retrieve the value of a key called \\\"email\\\" from person. If it doesn’t exist, return \\\"Not provided\\\n",
        "print(\"\\n\")\n",
        "print(student_data.get(\"email\",\"Not provided\"))\n",
        "# 2.4. Check if the key \\\"city\\\" exists in the dictionary.\n",
        "print(\"\\n\")\n",
        "print(\"city\" in student_data)\n",
        "# 2.5. Use .update() to add or modify multiple values:\\n\",\n",
        "# Update \\\"city\\\" to \\\"Mombasa\\\" and add \\\"email\\\": \\\"bob@example.com\\\"\n",
        "print(\"\\n\")\n",
        "student_data.update({\"city\":\"Mombasa\",\"email\":\"bob@example.com\"})\n",
        "print(student_data)"
      ]
    },
    {
      "cell_type": "code",
      "source": [
        "# 1. Create a dictionary called student with:\\n\n",
        "# Keys: \\\"name\\\", \\\"age\\\", \\\"grade\\\"\\n\n",
        "# Values: \\\"Alice\\\", 14, \\\"B\\\"\"\n",
        "options = [\"name\", \"age\", \"grade\"]\n",
        "student_data= {\"name\": \"Alice\", \"age\": 14, \"grade\": \"B\"}\n",
        "# 1.1. Access and print the student's name from the dictionary.\n",
        "print(student_data[\"name\"])\n",
        "# 1.2. Update the student's grade to \\\"A\\\".\n",
        "student_data[\"grade\"] = \"A\"\n",
        "# 1.3. Add a new key called \\\"school\\\" with the value \\\"Greenwood High\\\".\n",
        "student_data[\"school\"] = \"Greenwood High\"\n",
        "# 1.4. Print all the keys and values in the student dictionary.\n",
        "print(student_data.keys())\n",
        "print(student_data.values())\n",
        "#1.4. Delete the \\\"age\\\" key from the dictionary.\n",
        "del student_data[\"age\"]\n",
        "print(student_data)\n",
        "# 2. Loop through the following dictionary and print each key and value:\n",
        "#student_data = { \"name\": \"Alice\",\"age\": 14, \"grade\": \"B\",\"school\": \"Greenwood High\"}\n",
        "print(\"\\n\")\n",
        "for student in student_data.items():\n",
        "    print(student)\n",
        " # 2.1. Loop through and print only the keys from the dictionary above.\n",
        "print(\"\\n\")\n",
        "for student in student_data.keys():\n",
        "    print(student)\n",
        "# 2.2. Loop through and print only the values from the dictionary above.\n",
        "print(\"\\n\")\n",
        "for student in student_data.values():\n",
        "    print(student)\n",
        "# 2.3. Use .get() to retrieve the value of a key called \\\"email\\\" from person. If it doesn’t exist, return \\\"Not provided\\\n",
        "print(\"\\n\")\n",
        "print(student_data.get(\"email\",\"Not provided\"))\n",
        "# 2.4. Check if the key \\\"city\\\" exists in the dictionary.\n",
        "print(\"\\n\")\n",
        "print(\"city\" in student_data)\n",
        "# 2.5. Use .update() to add or modify multiple values:\\n\",\n",
        "# Update \\\"city\\\" to \\\"Mombasa\\\" and add \\\"email\\\": \\\"bob@example.com\\\"\n",
        "print(\"\\n\")\n",
        "student_data.update({\"city\":\"Mombasa\",\"email\":\"bob@example.com\"})\n",
        "print(student_data)"
      ],
      "metadata": {
        "colab": {
          "base_uri": "https://localhost:8080/"
        },
        "id": "3tsvLeOmRCAg",
        "outputId": "40a04d5e-3132-4173-f57b-1751bafdb6d6"
      },
      "execution_count": 2,
      "outputs": [
        {
          "output_type": "stream",
          "name": "stdout",
          "text": [
            "Alice\n",
            "dict_keys(['name', 'age', 'grade', 'school'])\n",
            "dict_values(['Alice', 14, 'A', 'Greenwood High'])\n",
            "{'name': 'Alice', 'grade': 'A', 'school': 'Greenwood High'}\n",
            "\n",
            "\n",
            "('name', 'Alice')\n",
            "('grade', 'A')\n",
            "('school', 'Greenwood High')\n",
            "\n",
            "\n",
            "name\n",
            "grade\n",
            "school\n",
            "\n",
            "\n",
            "Alice\n",
            "A\n",
            "Greenwood High\n",
            "\n",
            "\n",
            "Not provided\n",
            "\n",
            "\n",
            "False\n",
            "\n",
            "\n",
            "{'name': 'Alice', 'grade': 'A', 'school': 'Greenwood High', 'city': 'Mombasa', 'email': 'bob@example.com'}\n"
          ]
        }
      ]
    },
    {
      "cell_type": "code",
      "source": [
        "# 4. Create a dicy to count how many times each word appears in this list:\\n\",\n",
        "# Output should be:\\n\",\n",
        "# {\\\"apple\\\": 3, \\\"banana\\\": 2, \\\"cherry\\\": 1}\\n\",\"words = [\\\"apple\\\", \\\"banana\\\", \\\"apple\\\", \\\"cherry\\\", \\\"banana\\\", \\\"apple\\\"\n",
        "words = [\"apple\", \"banana\", \"apple\", \"cherry\", \"banana\", \"apple\"]\n",
        "word = {}\n",
        "for i in words:\n",
        "  if i in word:\n",
        "    word[i] += 1\n",
        "  else:\n",
        "    word[i] = 1\n",
        "print(word)\n"
      ],
      "metadata": {
        "colab": {
          "base_uri": "https://localhost:8080/"
        },
        "id": "TF7iamvhRLhA",
        "outputId": "a89ca1fe-3dcb-4374-cbee-39d229b6d13f"
      },
      "execution_count": 3,
      "outputs": [
        {
          "output_type": "stream",
          "name": "stdout",
          "text": [
            "{'apple': 3, 'banana': 2, 'cherry': 1}\n"
          ]
        }
      ]
    },
    {
      "cell_type": "code",
      "source": [
        "# 5. Build a simple phonebook:\\n\",\n",
        "# Ask the user to enter names and phone numbers\\n\",\n",
        "# Store them in a dictionary\\n\",\n",
        "# Allow the user to look up numbers by name\n",
        "phonebook = {}\n",
        "while True:\n",
        "    query = input(\"Enter a choice: \\n 'a' - to add a name \\n 's' - to search \\n 'q' - to quit \\n\")\n",
        "    if query == 'q':\n",
        "        break\n",
        "\n",
        "    if query == 'a':\n",
        "      name = input(\"Enter a name: \")\n",
        "      phone = input(\"Enter a phone number: \")\n",
        "      phonebook[name] = phone\n",
        "      print(\"Phonebook updated.\")\n",
        "    if query == 's':\n",
        "      ask = input(\"enter name to search\")\n",
        "      if ask in phonebook:\n",
        "        print(phonebook[ask])\n",
        "      else:\n",
        "        print(\"name not found\")"
      ],
      "metadata": {
        "colab": {
          "base_uri": "https://localhost:8080/"
        },
        "id": "5NsAb4xTRRGu",
        "outputId": "6a693a35-3ca7-4536-9fc0-24282cb3dcf8"
      },
      "execution_count": 11,
      "outputs": [
        {
          "name": "stdout",
          "output_type": "stream",
          "text": [
            "Enter a choice: \n",
            " 'a' - to add a name \n",
            " 's' - to search \n",
            " 'q' - to quit \n",
            "a\n",
            "Enter a name: Peter\n",
            "Enter a phone number: 074262714275\n",
            "Phonebook updated.\n",
            "Enter a choice: \n",
            " 'a' - to add a name \n",
            " 's' - to search \n",
            " 'q' - to quit \n",
            "a\n",
            "Enter a name: ar\n",
            "Enter a phone number: 5327656423876\n",
            "Phonebook updated.\n",
            "Enter a choice: \n",
            " 'a' - to add a name \n",
            " 's' - to search \n",
            " 'q' - to quit \n",
            "s\n",
            "enter name to searchar\n",
            "5327656423876\n",
            "Enter a choice: \n",
            " 'a' - to add a name \n",
            " 's' - to search \n",
            " 'q' - to quit \n",
            "q\n"
          ]
        }
      ]
    },
    {
      "cell_type": "code",
      "source": [
        "\n"
      ],
      "metadata": {
        "id": "d-QlePnrRzRk"
      },
      "execution_count": null,
      "outputs": []
    }
  ]
}