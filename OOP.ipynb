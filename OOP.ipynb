{
  "nbformat": 4,
  "nbformat_minor": 0,
  "metadata": {
    "colab": {
      "provenance": [],
      "authorship_tag": "ABX9TyOkQAaYGc+lb96Tdr4SCkeQ",
      "include_colab_link": true
    },
    "kernelspec": {
      "name": "python3",
      "display_name": "Python 3"
    },
    "language_info": {
      "name": "python"
    }
  },
  "cells": [
    {
      "cell_type": "markdown",
      "metadata": {
        "id": "view-in-github",
        "colab_type": "text"
      },
      "source": [
        "<a href=\"https://colab.research.google.com/github/moseti-peter/Introduction-to-python/blob/main/OOP.ipynb\" target=\"_parent\"><img src=\"https://colab.research.google.com/assets/colab-badge.svg\" alt=\"Open In Colab\"/></a>"
      ]
    },
    {
      "cell_type": "code",
      "execution_count": 8,
      "metadata": {
        "colab": {
          "base_uri": "https://localhost:8080/"
        },
        "id": "JcHNk27o8qSe",
        "outputId": "aa7061b2-4d13-4a4d-a242-d42971bb54d3"
      },
      "outputs": [
        {
          "output_type": "stream",
          "name": "stdout",
          "text": [
            "<__main__.Students object at 0x7906f9b51e10>\n",
            "Chalie\n",
            "19\n",
            "72\n",
            "Hello, my name is Chalie and I am 19 years old. I am in grade 72\n",
            "True\n"
          ]
        }
      ],
      "source": [
        "from os import name\n",
        "class Students:\n",
        "   def __init__(self,name,age,grade):\n",
        "     self.name = name\n",
        "     self.age = age\n",
        "     self.grade = grade\n",
        "\n",
        "   def greet(self):\n",
        "     print(f\"Hello, my name is {self.name} and I am {self.age} years old. I am in grade {self.grade}\")\n",
        "\n",
        "   def is_passed(self):\n",
        "     return self.grade >= 50\n",
        "\n",
        "s3 = Students(\"Chalie\", 19, 72)\n",
        "\n",
        "s1 = Students(\"Mary\",20,30)\n",
        "\n",
        "s2 = Students(\"Peter\",21,85)\n",
        "\n",
        "print(s3)\n",
        "print(s3.name)\n",
        "print(s3.age)\n",
        "print(s3.grade)\n",
        "s3.greet()\n",
        "print(s3.is_passed())\n",
        ""
      ]
    },
    {
      "cell_type": "code",
      "source": [],
      "metadata": {
        "id": "atlg0tFV8ywg"
      },
      "execution_count": null,
      "outputs": []
    }
  ]
}