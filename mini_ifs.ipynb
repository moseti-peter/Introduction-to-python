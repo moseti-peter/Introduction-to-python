{
  "nbformat": 4,
  "nbformat_minor": 0,
  "metadata": {
    "colab": {
      "provenance": [],
      "authorship_tag": "ABX9TyPRhhQ2fSv3p9UuraUX7lBZ",
      "include_colab_link": true
    },
    "kernelspec": {
      "name": "python3",
      "display_name": "Python 3"
    },
    "language_info": {
      "name": "python"
    }
  },
  "cells": [
    {
      "cell_type": "markdown",
      "metadata": {
        "id": "view-in-github",
        "colab_type": "text"
      },
      "source": [
        "<a href=\"https://colab.research.google.com/github/moseti-peter/Introduction-to-python/blob/main/mini_ifs.ipynb\" target=\"_parent\"><img src=\"https://colab.research.google.com/assets/colab-badge.svg\" alt=\"Open In Colab\"/></a>"
      ]
    },
    {
      "cell_type": "code",
      "execution_count": 1,
      "metadata": {
        "colab": {
          "base_uri": "https://localhost:8080/"
        },
        "id": "aH18emIPXLB3",
        "outputId": "02e7be8b-9202-4849-b938-61b1094adf97"
      },
      "outputs": [
        {
          "output_type": "stream",
          "name": "stdout",
          "text": [
            "Enter a number: -1\n",
            "Negative number\n"
          ]
        }
      ],
      "source": [
        "### practice on how to use if, elif, else / and, or, not\"\n",
        "# 1. Write a program that checks if a number is positive.\\n\",\n",
        "# Input: 5\\n\",\n",
        "# Output: Positive number\"\n",
        "num = int(input(\"Enter a number: \"))\n",
        "if num > 0:\n",
        "    print(\"Positive number\")\n",
        "else:\n",
        "    print(\"Negative number\")"
      ]
    },
    {
      "cell_type": "code",
      "source": [
        "# 2. Check if a given number is even or odd.\\n\",\n",
        "# Input: 7\\n\",\n",
        "# Output: Odd number\"\n",
        "num = int(input(\"Enter a number: \"))\n",
        "if num % 2 == 0:\n",
        "    print(\"Even number\")\n",
        "else:\n",
        "    print(\"Odd number\")"
      ],
      "metadata": {
        "colab": {
          "base_uri": "https://localhost:8080/"
        },
        "id": "6U9I0ns6YR3J",
        "outputId": "d35dd401-1e2b-4693-ffcc-65064c9c9b8e"
      },
      "execution_count": 3,
      "outputs": [
        {
          "output_type": "stream",
          "name": "stdout",
          "text": [
            "Enter a number: 8\n",
            "Even number\n"
          ]
        }
      ]
    },
    {
      "cell_type": "code",
      "source": [
        "# 3. Ask the user for their age. If they are 18 or older, print \\\"You are an adult.\\\"\"\n",
        "age = int(input(\"Enter your age: \"))\n",
        "if age >= 18:\n",
        "    print(\"You are an adult\")\n",
        "else:\n",
        "    print(\"You are not an adult\")"
      ],
      "metadata": {
        "colab": {
          "base_uri": "https://localhost:8080/"
        },
        "id": "4YibTjnYY62x",
        "outputId": "7f77b9c4-39c2-455c-de81-d3de4ac70892"
      },
      "execution_count": 4,
      "outputs": [
        {
          "output_type": "stream",
          "name": "stdout",
          "text": [
            "Enter your age: 21\n",
            "You are an adult\n"
          ]
        }
      ]
    },
    {
      "cell_type": "code",
      "source": [
        "# 4. Ask the user to enter a password. If it matches \\\"secret\\\", print \\\"Access granted\\\"; otherwise, print \\\"Wrong password\\\".\"\n",
        "password = input(\"Enter a password: \")\n",
        "if password == \"secret\":\n",
        "    print(\"Access granted\")\n",
        "else:\n",
        "    print(\"Wrong password\")"
      ],
      "metadata": {
        "colab": {
          "base_uri": "https://localhost:8080/"
        },
        "id": "T5Ua372qZOhV",
        "outputId": "0e48ffb6-e605-4552-8812-303706427335"
      },
      "execution_count": 5,
      "outputs": [
        {
          "output_type": "stream",
          "name": "stdout",
          "text": [
            "Enter a password: secret\n",
            "Access granted\n"
          ]
        }
      ]
    },
    {
      "cell_type": "code",
      "source": [
        "# 5. Ask the user for a number and print whether it is even or odd\n",
        "num = int(input(\"Enter a number: \"))\n",
        "if num % 2 == 0:\n",
        "    print(\"Even number\")\n",
        "else:\n",
        "    print(\"Odd number\")"
      ],
      "metadata": {
        "colab": {
          "base_uri": "https://localhost:8080/"
        },
        "id": "BTBPhiQ8Zf7v",
        "outputId": "adcf3e25-bfce-404b-94cd-a40d4a9b4a67"
      },
      "execution_count": 6,
      "outputs": [
        {
          "output_type": "stream",
          "name": "stdout",
          "text": [
            "Enter a number: 5\n",
            "Odd number\n"
          ]
        }
      ]
    },
    {
      "cell_type": "code",
      "source": [
        "# 6. Check whether a number is divisible by 3 given by a user. If it is, print \\\"Hit\\\"; otherwise, print \\\"Miss\\\".\n",
        "num = int(input(\"Enter a number: \"))\n",
        "if num % 3 == 0:\n",
        "    print(\"Hit\")\n",
        "else:\n",
        "    print(\"Miss\")"
      ],
      "metadata": {
        "colab": {
          "base_uri": "https://localhost:8080/"
        },
        "id": "edUHZ5uAZ0Ei",
        "outputId": "b32029bd-dcc2-472f-dd05-187411acf9ed"
      },
      "execution_count": 7,
      "outputs": [
        {
          "output_type": "stream",
          "name": "stdout",
          "text": [
            "Enter a number: 9\n",
            "Hit\n"
          ]
        }
      ]
    },
    {
      "cell_type": "code",
      "source": [
        "# 7. Ask the user for a number and print whether it is positive, negative, or zero.\"\n",
        "num = int(input(\"Enter a number: \"))\n",
        "if num > 0:\n",
        "    print(\"Positive number\")\n",
        "elif num < 0:\n",
        "    print(\"Negative number\")\n",
        "else:\n",
        "    print(\"Zero\")"
      ],
      "metadata": {
        "colab": {
          "base_uri": "https://localhost:8080/"
        },
        "id": "BDY0wkB2aJpi",
        "outputId": "c4022cea-541f-45c6-c58c-9cda18a59b6e"
      },
      "execution_count": 8,
      "outputs": [
        {
          "output_type": "stream",
          "name": "stdout",
          "text": [
            "Enter a number: 0\n",
            "Zero\n"
          ]
        }
      ]
    },
    {
      "cell_type": "code",
      "source": [
        "# 8. Ask for a grade (0–100) and print:\\n\",\n",
        "# \\\"A\\\" if 80 and above\\n\",\n",
        "# \\\"B\\\" if 60–79\\n\",\n",
        "# \\\"C\\\" if 40–59\\n\",\n",
        "# \\\"F\\\" if below 40\"\n",
        "grade = int(input(\"Enter a grade: \"))\n",
        "if grade >= 80:\n",
        "    print(\"A\")\n",
        "elif grade >= 60:\n",
        "    print(\"B\")\n",
        "elif grade >= 40:\n",
        "    print(\"C\")\n",
        "else:\n",
        "    print(\"F\")"
      ],
      "metadata": {
        "colab": {
          "base_uri": "https://localhost:8080/"
        },
        "id": "Ec_NrvUWaZMT",
        "outputId": "b9bc98c0-2390-4920-a0ee-52b3edb686d6"
      },
      "execution_count": 10,
      "outputs": [
        {
          "output_type": "stream",
          "name": "stdout",
          "text": [
            "Enter a grade: 67\n",
            "B\n"
          ]
        }
      ]
    },
    {
      "cell_type": "code",
      "source": [
        "# 9. Create a simple calculator:\\n\",\n",
        "# Ask for two numbers and an operator (+, -, *, /)\\n\",\n",
        "# Use if statements to compute the result\"\n",
        "num1 =int(input(\"Enter a number: \"))\n",
        "num2 =int(input(\"Enter a number: \"))\n",
        "operator = input(\"Enter an operator: \")\n",
        "if operator == \"sum\":\n",
        "    print(num1 + num2)\n",
        "elif operator == \"sub\":\n",
        "    print(num1 - num2)\n",
        "elif operator == \"mult\":\n",
        "    print(num1 * num2)\n",
        "elif operator == \"div\":\n",
        "    print(num1 / num2)\n",
        "else:\n",
        "    print(\"Invalid operator\")"
      ],
      "metadata": {
        "colab": {
          "base_uri": "https://localhost:8080/"
        },
        "id": "ENS0Rk39azDO",
        "outputId": "b0e5cc5c-3315-41dc-c637-dba739511b39"
      },
      "execution_count": 15,
      "outputs": [
        {
          "output_type": "stream",
          "name": "stdout",
          "text": [
            "Enter a number: 34\n",
            "Enter a number: 43\n",
            "Enter an operator: sum\n",
            "77\n"
          ]
        }
      ]
    },
    {
      "cell_type": "code",
      "source": [
        "# 10. Ask the user for their age. If they are between 13 and 19 (inclusive), print \\\"Teenager\\\".\n",
        "age = int(input(\"Enter your age: \"))\n",
        "if age >= 13 and age <= 19:\n",
        "    print(\"Teenager\")\n",
        "else:\n",
        "    print(\"Not a teenager\")"
      ],
      "metadata": {
        "colab": {
          "base_uri": "https://localhost:8080/"
        },
        "id": "8YQWNhvCbwo7",
        "outputId": "2688794c-c665-4c66-9dca-80bf03f1c0ce"
      },
      "execution_count": 16,
      "outputs": [
        {
          "output_type": "stream",
          "name": "stdout",
          "text": [
            "Enter your age: 16\n",
            "Teenager\n"
          ]
        }
      ]
    },
    {
      "cell_type": "code",
      "source": [
        "# 11. Check if a year is a leap year:\\n\",\n",
        "# leap years are those that are divisible by 4 e.g. 2020\\n\",\n",
        "# leap years are not divisible by 100 except for those that are also divisible by 400\"\n",
        "year  = int(input(\"Enter a year: \"))\n",
        "#if year % 4 == 0:\n",
        "#   if year % 100 == 0:\n",
        "if year % 400 == 0:\n",
        "     print(\"Leap year\")\n",
        "else:\n",
        "     print(\"Not a leap year\")"
      ],
      "metadata": {
        "colab": {
          "base_uri": "https://localhost:8080/"
        },
        "id": "QMeJRAGvdkrG",
        "outputId": "6b2a4325-57b5-41d0-beb8-9d0918772ea7"
      },
      "execution_count": 21,
      "outputs": [
        {
          "output_type": "stream",
          "name": "stdout",
          "text": [
            "Enter a year: 2121\n",
            "Not a leap year\n"
          ]
        }
      ]
    },
    {
      "cell_type": "code",
      "source": [
        "# 12. Ask for a password and username. Allow login only if both match the correct values\n",
        "username = input(\"Enter a username: \")\n",
        "password = input(\"Enter a password: \")\n",
        "if username == \"admin\" and password == \"password\":\n",
        "    print(\"Login successful\")\n",
        "else:\n",
        "    print(\"Login failed\")"
      ],
      "metadata": {
        "colab": {
          "base_uri": "https://localhost:8080/"
        },
        "id": "uG1aJ9FYeHmh",
        "outputId": "b77667ef-83a1-4355-e166-43ea5d65ef90"
      },
      "execution_count": 22,
      "outputs": [
        {
          "output_type": "stream",
          "name": "stdout",
          "text": [
            "Enter a username: admin\n",
            "Enter a password: password\n",
            "Login successful\n"
          ]
        }
      ]
    },
    {
      "cell_type": "code",
      "source": [
        " #13.Ask for a username. If it is \\\"admin\\\", then ask for a password. If both are correct, print \\\"Welcome, admin!\\\"\"\n",
        "username = input(\"Enter a username: \")\n",
        "if username == \"admin\":\n",
        "    password = input(\"Enter a password: \")\n",
        "    if password == \"password\":\n",
        "        print(\"Welcome, admin!\")"
      ],
      "metadata": {
        "colab": {
          "base_uri": "https://localhost:8080/"
        },
        "id": "FL-Xo8PZfd7D",
        "outputId": "56dcc6ea-04e4-46d7-d9a6-73b2b6194a6a"
      },
      "execution_count": 24,
      "outputs": [
        {
          "output_type": "stream",
          "name": "stdout",
          "text": [
            "Enter a username: admin\n",
            "Enter a password: password\n",
            "Welcome, admin!\n"
          ]
        }
      ]
    },
    {
      "cell_type": "code",
      "source": [
        "# 14. Ask a user to enter two numbers. If both numbers are even, print \\\"Both are even\\\"; if one is even, print \\\"One is even\\\"; otherwise print \\\"None are even\\\".\"\n",
        "num1 = int(input(\"Enter a number: \"))\n",
        "num2 = int(input(\"Enter a number: \"))\n",
        "if num1 % 2 == 0 and num2 % 2 == 0:\n",
        "    print(\"Both are even\")\n",
        "elif num1 % 2 == 0 or num2 % 2 == 0:\n",
        "        print(\"One is even\")\n",
        "else:\n",
        "        print(\"None are even\")"
      ],
      "metadata": {
        "colab": {
          "base_uri": "https://localhost:8080/"
        },
        "id": "MkCFBXaxf7bl",
        "outputId": "6b9a334e-bb6a-44d6-840f-6ae42df021fe"
      },
      "execution_count": 25,
      "outputs": [
        {
          "output_type": "stream",
          "name": "stdout",
          "text": [
            "Enter a number: 21\n",
            "Enter a number: 22\n",
            "One is even\n"
          ]
        }
      ]
    },
    {
      "cell_type": "code",
      "source": [
        "#15. Ask the user for marks in three subjects. If the average is above 50, print \\\"Passed\\\"; otherwise, print \\\"Failed\\\".\n",
        "sub1 = int(input(\"Enter marks in subject 1: \"))\n",
        "sub2 = int(input(\"Enter marks in subject 2: \"))\n",
        "sub3 = int(input(\"Enter marks in subject 3: \"))\n",
        "avg = (sub1 + sub2 + sub3) / 3\n",
        "if avg > 50:\n",
        "    print(\"Passed\")\n",
        "else:\n",
        "    print(\"Failed\")"
      ],
      "metadata": {
        "colab": {
          "base_uri": "https://localhost:8080/"
        },
        "id": "CM6PAYRAgayL",
        "outputId": "e28e3e4d-302d-4253-cfc6-c4b22f03ddfe"
      },
      "execution_count": 26,
      "outputs": [
        {
          "output_type": "stream",
          "name": "stdout",
          "text": [
            "Enter marks in subject 1: 41\n",
            "Enter marks in subject 2: 76\n",
            "Enter marks in subject 3: 54\n",
            "Passed\n"
          ]
        }
      ]
    },
    {
      "cell_type": "code",
      "source": [
        "# 16. Rock, Paper, Scissors Game (2 players)\\n\",\n",
        "# Ask both players to enter their choice\\n\",\n",
        "# Decide who wins based on rules(research the rules)\n",
        "player1 = input(\"Enter your choice player1: \")\n",
        "player2 = input(\"Enter your choice player2: \")\n",
        "if player1 == \"rock\" and player2 == \"scissors\":\n",
        "    print(\"Player 1 wins\")\n",
        "elif player1 == \"paper\" and player2 == \"rock\":\n",
        "    print(\"Player 1 wins\")\n",
        "elif player1 == \"scissors\" and player2 == \"paper\":\n",
        "    print(\"Player 1 wins\")\n",
        "elif player1 == player2:\n",
        "    print(\"Tie\")\n",
        "else:\n",
        "    print(\"Player 2 wins\")"
      ],
      "metadata": {
        "colab": {
          "base_uri": "https://localhost:8080/"
        },
        "id": "2mB47tBjg8OS",
        "outputId": "221de191-d7f0-4424-ef2a-23d292e5456d"
      },
      "execution_count": 30,
      "outputs": [
        {
          "output_type": "stream",
          "name": "stdout",
          "text": [
            "Enter your choice player1: yytfyt\n",
            "Enter your choice player2: trfryf\n",
            "Player 2 wins\n"
          ]
        }
      ]
    },
    {
      "cell_type": "code",
      "source": [
        "# 17. Ask the user for a number and check if it's a prime number (Hint: A prime number has only two factors)\n",
        "num = int(input(\"Enter a number: \"))\n",
        "if num > 1:\n",
        "    for i in range(2, num):\n",
        "        if num % i == 0:\n",
        "            print(\"Not a prime number\")\n",
        "            break\n",
        "    else:\n",
        "        print(\"Prime number\")"
      ],
      "metadata": {
        "colab": {
          "base_uri": "https://localhost:8080/"
        },
        "id": "r-6H-ZFShu_n",
        "outputId": "b8f772a9-6470-464e-82cb-b4958e962f17"
      },
      "execution_count": 31,
      "outputs": [
        {
          "output_type": "stream",
          "name": "stdout",
          "text": [
            "Enter a number: 3\n",
            "Prime number\n"
          ]
        }
      ]
    },
    {
      "cell_type": "code",
      "source": [
        "# 18. Ask the user to enter a number and check if it’s a perfect square.\"\n",
        "num = int(input(\"Enter a number: \"))\n",
        "for i in range(1, num+1):\n",
        "    if i**2 == num:\n",
        "        print(\"Perfect square\")\n",
        "        break\n",
        "else:\n",
        "    print(\"Not a perfect square\")"
      ],
      "metadata": {
        "colab": {
          "base_uri": "https://localhost:8080/"
        },
        "id": "akRCD-bhjpsg",
        "outputId": "71ad0af1-fdfa-4269-957f-fd57325c0f07"
      },
      "execution_count": 33,
      "outputs": [
        {
          "output_type": "stream",
          "name": "stdout",
          "text": [
            "Enter a number: 4\n",
            "Perfect square\n"
          ]
        }
      ]
    },
    {
      "cell_type": "code",
      "source": [],
      "metadata": {
        "id": "EjfYMyAYl_0f"
      },
      "execution_count": null,
      "outputs": []
    },
    {
      "cell_type": "markdown",
      "source": [],
      "metadata": {
        "id": "r10EqOculbn4"
      }
    }
  ]
}