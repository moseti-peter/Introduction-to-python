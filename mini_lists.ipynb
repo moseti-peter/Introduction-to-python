{
  "nbformat": 4,
  "nbformat_minor": 0,
  "metadata": {
    "colab": {
      "provenance": [],
      "authorship_tag": "ABX9TyNxnu5JpY8vAWEYIWphN8I8",
      "include_colab_link": true
    },
    "kernelspec": {
      "name": "python3",
      "display_name": "Python 3"
    },
    "language_info": {
      "name": "python"
    }
  },
  "cells": [
    {
      "cell_type": "markdown",
      "metadata": {
        "id": "view-in-github",
        "colab_type": "text"
      },
      "source": [
        "<a href=\"https://colab.research.google.com/github/moseti-peter/Introduction-to-python/blob/main/mini_lists.ipynb\" target=\"_parent\"><img src=\"https://colab.research.google.com/assets/colab-badge.svg\" alt=\"Open In Colab\"/></a>"
      ]
    },
    {
      "cell_type": "code",
      "execution_count": null,
      "metadata": {
        "id": "PpixKjNx3dX9"
      },
      "outputs": [],
      "source": [
        "# 1. Create a list of your 8 foods and store it in a variable called foods.\\n\",\n",
        "# pizza cake banana kales pizza chicken beef\"\n",
        "foods = [\"pizza\", \"cake\", \"banana\", \"kales\", \"pizza\", \"chicken\", \"beef\"]"
      ]
    },
    {
      "cell_type": "code",
      "source": [
        "# 1.1. Print the first and last item in the foods list.\n",
        "print(foods[0])\n",
        "print(foods[-1])"
      ],
      "metadata": {
        "colab": {
          "base_uri": "https://localhost:8080/"
        },
        "id": "t5xokSBt4crb",
        "outputId": "274e478e-fd58-4489-8ad5-35b8edd0b720"
      },
      "execution_count": null,
      "outputs": [
        {
          "output_type": "stream",
          "name": "stdout",
          "text": [
            "pizza\n",
            "beef\n"
          ]
        }
      ]
    },
    {
      "cell_type": "code",
      "source": [
        "# 1.2. Replace the third item in the list with another food.\"\n",
        "foods[2] = \"apple\"\n",
        "print(foods)"
      ],
      "metadata": {
        "colab": {
          "base_uri": "https://localhost:8080/"
        },
        "id": "Jty_6ncg5U9N",
        "outputId": "25985310-fa74-47a9-c8a1-7de901701d87"
      },
      "execution_count": null,
      "outputs": [
        {
          "output_type": "stream",
          "name": "stdout",
          "text": [
            "['pizza', 'cake', 'apple', 'kales', 'pizza', 'chicken', 'beef']\n"
          ]
        }
      ]
    },
    {
      "cell_type": "code",
      "source": [
        "# 1.3. Add a new food to the end of the list using .append().\"\n",
        "foods.append(\"orange\")\n",
        "print(foods)"
      ],
      "metadata": {
        "colab": {
          "base_uri": "https://localhost:8080/"
        },
        "id": "CBT7a54y5qqD",
        "outputId": "7ad3cf54-1475-4d55-988f-a1d352c9e2ee"
      },
      "execution_count": null,
      "outputs": [
        {
          "output_type": "stream",
          "name": "stdout",
          "text": [
            "['pizza', 'cake', 'apple', 'kales', 'pizza', 'chicken', 'beef', 'orange']\n"
          ]
        }
      ]
    },
    {
      "cell_type": "code",
      "source": [
        "# 1.4. Remove one food from the list using .remove().\n",
        "foods.remove(\"pizza\")\n",
        "print(foods)"
      ],
      "metadata": {
        "colab": {
          "base_uri": "https://localhost:8080/"
        },
        "id": "fuV1lKFw5-cP",
        "outputId": "20d4cf19-276d-4086-b00a-e88987da30a0"
      },
      "execution_count": null,
      "outputs": [
        {
          "output_type": "stream",
          "name": "stdout",
          "text": [
            "['cake', 'apple', 'kales', 'pizza', 'chicken', 'beef', 'orange']\n"
          ]
        }
      ]
    },
    {
      "cell_type": "code",
      "source": [
        "# 1.5. Use a for loop to print each item in the list on a new line.\"\n",
        "for food in foods:\n",
        "    print(food)"
      ],
      "metadata": {
        "colab": {
          "base_uri": "https://localhost:8080/"
        },
        "id": "F81OQt_u6P8j",
        "outputId": "47908113-d59b-4aa8-804a-b590863d6f6d"
      },
      "execution_count": null,
      "outputs": [
        {
          "output_type": "stream",
          "name": "stdout",
          "text": [
            "cake\n",
            "apple\n",
            "kales\n",
            "pizza\n",
            "chicken\n",
            "beef\n",
            "orange\n"
          ]
        }
      ]
    },
    {
      "cell_type": "code",
      "source": [
        "# 1.6. Use a loop to print only the foods that start with the letter \\\"a\\\".\"\n",
        "for food in foods:\n",
        "    if food.startswith(\"a\"):\n",
        "        print(food)"
      ],
      "metadata": {
        "colab": {
          "base_uri": "https://localhost:8080/"
        },
        "id": "DPpAcQle6ebM",
        "outputId": "445e44f8-d742-4278-b60d-0c205b0a763f"
      },
      "execution_count": null,
      "outputs": [
        {
          "output_type": "stream",
          "name": "stdout",
          "text": [
            "apple\n"
          ]
        }
      ]
    },
    {
      "cell_type": "code",
      "source": [
        "# 1.7. Count how many times \\\"pizza\\\" appears in the list.\"\n",
        "print(foods.count(\"pizza\"))"
      ],
      "metadata": {
        "colab": {
          "base_uri": "https://localhost:8080/"
        },
        "id": "NU7f4Ru368E3",
        "outputId": "de48d9fd-4589-4713-d050-0b08d5bdad76"
      },
      "execution_count": null,
      "outputs": [
        {
          "output_type": "stream",
          "name": "stdout",
          "text": [
            "1\n"
          ]
        }
      ]
    },
    {
      "cell_type": "code",
      "source": [
        "# 1.8. Print the second to fourth items using slicing.\\n\",\n",
        "# Remember that slicing is getting a range of values using the square brackets and index\"\n",
        "print(foods[1:4])\n"
      ],
      "metadata": {
        "colab": {
          "base_uri": "https://localhost:8080/"
        },
        "id": "ikvujLlm7E1F",
        "outputId": "cfdd7e46-b03b-4a5b-a5cd-1394dc08dbb3"
      },
      "execution_count": null,
      "outputs": [
        {
          "output_type": "stream",
          "name": "stdout",
          "text": [
            "['apple', 'kales', 'pizza']\n"
          ]
        }
      ]
    },
    {
      "cell_type": "code",
      "source": [
        "# 1.9. Print the list in reverse using slicing.\"\n",
        "print(foods[::-1])"
      ],
      "metadata": {
        "colab": {
          "base_uri": "https://localhost:8080/"
        },
        "id": "FO06_kRg7EVr",
        "outputId": "88b6ae73-5f39-42bd-bfa6-cdad4d8390e8"
      },
      "execution_count": null,
      "outputs": [
        {
          "output_type": "stream",
          "name": "stdout",
          "text": [
            "['orange', 'beef', 'chicken', 'pizza', 'kales', 'apple', 'cake']\n"
          ]
        }
      ]
    },
    {
      "cell_type": "code",
      "source": [
        "print(foods[0:])"
      ],
      "metadata": {
        "colab": {
          "base_uri": "https://localhost:8080/"
        },
        "id": "B7j2fm7O75Vs",
        "outputId": "3aa35d76-4424-4810-fb84-5fb2887c4ce2"
      },
      "execution_count": null,
      "outputs": [
        {
          "output_type": "stream",
          "name": "stdout",
          "text": [
            "['cake', 'apple', 'kales', 'pizza', 'chicken', 'beef', 'orange']\n"
          ]
        }
      ]
    },
    {
      "cell_type": "code",
      "source": [
        "# 2. Create a list of numbers: 5 2 9 1 7\"\n",
        "numbers = [5, 2, 9, 1, 7]"
      ],
      "metadata": {
        "id": "s7EUFh3n8GdK"
      },
      "execution_count": null,
      "outputs": []
    },
    {
      "cell_type": "code",
      "source": [
        "# 2.1 Use the following functions:\\n\",\n",
        "# sum() to calculate total\\n\",\n",
        "# max() to find the highest\\n\",\n",
        "# min() to find the smallest\"\n",
        "print(sum(numbers))\n",
        "print(max(numbers))\n",
        "print(min(numbers))"
      ],
      "metadata": {
        "colab": {
          "base_uri": "https://localhost:8080/"
        },
        "id": "zQd0wwRd8QGN",
        "outputId": "f7c562bd-46b3-4401-9e70-2641e6a8cf0b"
      },
      "execution_count": null,
      "outputs": [
        {
          "output_type": "stream",
          "name": "stdout",
          "text": [
            "24\n",
            "9\n",
            "1\n"
          ]
        }
      ]
    },
    {
      "cell_type": "code",
      "source": [
        "# 2.2. Sort the list in ascending and descending order using .sort() and .reverse().\"\n",
        "numbers.sort()\n",
        "print(numbers)\n",
        "numbers.reverse()\n",
        "print(numbers)"
      ],
      "metadata": {
        "colab": {
          "base_uri": "https://localhost:8080/"
        },
        "id": "WigYbUk49Lg4",
        "outputId": "a6f20c47-a9f7-44d9-ff47-c159a4c2b3fb"
      },
      "execution_count": null,
      "outputs": [
        {
          "output_type": "stream",
          "name": "stdout",
          "text": [
            "[1, 2, 5, 7, 9]\n",
            "[9, 7, 5, 2, 1]\n"
          ]
        }
      ]
    },
    {
      "cell_type": "code",
      "source": [
        "# 2.3. Use .insert() to add the number 10 at index 2.\""
      ],
      "metadata": {
        "id": "w8921Zl09_4_"
      },
      "execution_count": null,
      "outputs": []
    },
    {
      "cell_type": "code",
      "source": [
        "# 3. Create the nested list of students below and their scores:\\n\",\n",
        "# then print each student's name and score using a loop.\\n\", \"students = [[\\\"Alice\\\", 85], [\\\"Bob\\\", 78], [\\\"Charlie\\\", 92]]\"\n",
        "students = [[\"Alice\",85],[\"Bob\",78],[\"Charles\",92]]\n",
        "print(students)"
      ],
      "metadata": {
        "colab": {
          "base_uri": "https://localhost:8080/"
        },
        "id": "AbI4tzJQ-lKF",
        "outputId": "243f49a0-c276-43de-aeb9-734fa8b53364"
      },
      "execution_count": null,
      "outputs": [
        {
          "output_type": "stream",
          "name": "stdout",
          "text": [
            "[['Alice', 85], ['Bob', 78], ['Charles', 92]]\n"
          ]
        }
      ]
    },
    {
      "cell_type": "code",
      "source": [
        "# 3.1. Find the student with the highest score.\n",
        "highest_score = max(students, key=lambda x: x[1])\n",
        "print(highest_score)"
      ],
      "metadata": {
        "colab": {
          "base_uri": "https://localhost:8080/"
        },
        "id": "Ksw3J2_2_alZ",
        "outputId": "85914b19-67eb-4d1e-bcc9-2d19b5bc686f"
      },
      "execution_count": null,
      "outputs": [
        {
          "output_type": "stream",
          "name": "stdout",
          "text": [
            "['Charles', 92]\n"
          ]
        }
      ]
    },
    {
      "cell_type": "code",
      "source": [
        "# 4. Write a function that asks the user to enter 5 numbers and stores them in a list.\n",
        "num=[]\n",
        "\n",
        "while len(num)<5:\n",
        "  numbers = int(input(\"enter number:\"))\n",
        "  num.append(numbers)\n",
        "\n",
        "print(num)"
      ],
      "metadata": {
        "id": "XT0bVRX9Ao9J",
        "colab": {
          "base_uri": "https://localhost:8080/"
        },
        "outputId": "1ae8d49c-ca6c-4076-c01a-b0087f56ed13"
      },
      "execution_count": 5,
      "outputs": [
        {
          "output_type": "stream",
          "name": "stdout",
          "text": [
            "enter number:1\n",
            "enter number:2\n",
            "enter number:3\n",
            "enter number:4\n",
            "enter number:5\n",
            "[1, 2, 3, 4, 5]\n"
          ]
        }
      ]
    },
    {
      "cell_type": "code",
      "source": [
        "\n",
        "# 4.1. Write a function that removes all even numbers from the list provided by the user.\"\n",
        "def get_odd_numbers():\n",
        "    \"\"\"Asks the user for 5 numbers, stores them in a list, and removes even numbers.\"\"\"\n",
        "    numbers = []\n",
        "    while len(numbers) < 5:\n",
        "        try:\n",
        "            num = int(input(\"Enter a number: \"))\n",
        "            numbers.append(num)\n",
        "        except ValueError:\n",
        "            print(\"Invalid input. Please enter an integer.\")\n",
        "\n",
        "    odd_numbers = [n for n in numbers if n % 2 != 0]\n",
        "    return odd_numbers\n",
        "\n",
        "# Example usage:\n",
        "result = get_odd_numbers()\n",
        "print(\"The list of odd numbers is:\", result)"
      ],
      "metadata": {
        "id": "w4dwisdNC5h7",
        "colab": {
          "base_uri": "https://localhost:8080/"
        },
        "outputId": "99124ab7-9bcb-4fce-960f-493b386c931a"
      },
      "execution_count": 4,
      "outputs": [
        {
          "output_type": "stream",
          "name": "stdout",
          "text": [
            "Enter a number: 1\n",
            "Enter a number: 2\n",
            "Enter a number: 3\n",
            "Enter a number: 4\n",
            "Enter a number: 5\n",
            "The list of odd numbers is: [1, 3, 5]\n"
          ]
        }
      ]
    },
    {
      "cell_type": "code",
      "source": [
        "# 5. Merge two lists:\\n\",\"list1 = [1, 2, 3]\\n\",\"list2 = [4, 5, 6]\"\n",
        "list1 = [1, 2, 3]\n",
        "list2 = [4, 5, 6]\n",
        "merged_list = list1 + list2\n",
        "print(merged_list)"
      ],
      "metadata": {
        "id": "Gyj04g8SD27Y",
        "colab": {
          "base_uri": "https://localhost:8080/"
        },
        "outputId": "404596bc-589d-4b2b-a086-a03ab5e66b18"
      },
      "execution_count": null,
      "outputs": [
        {
          "output_type": "stream",
          "name": "stdout",
          "text": [
            "[1, 2, 3, 4, 5, 6]\n"
          ]
        }
      ]
    },
    {
      "cell_type": "code",
      "source": [
        "# 6. Ask the user to input student names until they type \\\"stop\\\". Store all names in a list and print it at the end.\"\n",
        "names = []\n",
        "while True:\n",
        "    name = input(\"Enter a student name (type 'stop' to finish): \")\n",
        "    if name == \"stop\":\n",
        "        break\n",
        "    names.append(name)\n",
        "print(\"Student names:\", names)"
      ],
      "metadata": {
        "id": "oZMhlrzfEAC6",
        "colab": {
          "base_uri": "https://localhost:8080/"
        },
        "outputId": "1a7fdbf9-0128-42d5-f120-e558c7ce775b"
      },
      "execution_count": null,
      "outputs": [
        {
          "output_type": "stream",
          "name": "stdout",
          "text": [
            "Enter a student name (type 'stop' to finish): Moseti\n",
            "Enter a student name (type 'stop' to finish): Aguastus\n",
            "Enter a student name (type 'stop' to finish): Joy\n",
            "Enter a student name (type 'stop' to finish): Faith\n",
            "Enter a student name (type 'stop' to finish): Lovely\n",
            "Enter a student name (type 'stop' to finish): stop\n",
            "Student names: ['Moseti', 'Aguastus', 'Joy', 'Faith', 'Lovely']\n"
          ]
        }
      ]
    },
    {
      "cell_type": "code",
      "source": [
        "# 6.1. From the list of names, print only those that are longer than 5 characters.\"\n",
        "long_names = [name for name in names if len(name) > 5]\n",
        "print(\"Long names:\", long_names)\n"
      ],
      "metadata": {
        "id": "sumngdFzEFhO",
        "colab": {
          "base_uri": "https://localhost:8080/"
        },
        "outputId": "712d0644-663d-4b6a-c014-b370e973d427"
      },
      "execution_count": null,
      "outputs": [
        {
          "output_type": "stream",
          "name": "stdout",
          "text": [
            "Long names: ['Moseti', 'Aguastus', 'Lovely']\n"
          ]
        }
      ]
    },
    {
      "cell_type": "code",
      "source": [],
      "metadata": {
        "id": "-UPEaiCkEL9f"
      },
      "execution_count": null,
      "outputs": []
    },
    {
      "cell_type": "code",
      "metadata": {
        "id": "1952ae89",
        "colab": {
          "base_uri": "https://localhost:8080/"
        },
        "outputId": "c5046edb-1c40-448c-90f1-cadb75a9292e"
      },
      "source": [
        "def get_odd_numbers():\n",
        "    \"\"\"Asks the user for 5 numbers, stores them in a list, and removes even numbers.\"\"\"\n",
        "    numbers = []\n",
        "    while len(numbers) < 5:\n",
        "        try:\n",
        "            num = int(input(\"Enter a number: \"))\n",
        "            numbers.append(num)\n",
        "        except ValueError:\n",
        "            print(\"Invalid input. Please enter an integer.\")\n",
        "\n",
        "    odd_numbers = [n for n in numbers if n % 2 != 0]\n",
        "    return odd_numbers\n",
        "\n",
        "# Example usage:\n",
        "result = get_odd_numbers()\n",
        "print(\"The list of odd numbers is:\", result)"
      ],
      "execution_count": 3,
      "outputs": [
        {
          "output_type": "stream",
          "name": "stdout",
          "text": [
            "Enter a number: 1\n",
            "Enter a number: 2\n",
            "Enter a number: 3\n",
            "Enter a number: 4\n",
            "Enter a number: 5\n",
            "The list of odd numbers is: [1, 3, 5]\n"
          ]
        }
      ]
    },
    {
      "cell_type": "code",
      "source": [],
      "metadata": {
        "id": "lMEjBpjP1DLA"
      },
      "execution_count": null,
      "outputs": []
    }
  ]
}